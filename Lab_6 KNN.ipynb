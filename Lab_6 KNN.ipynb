{
 "cells": [
  {
   "cell_type": "code",
   "execution_count": null,
   "metadata": {},
   "outputs": [],
   "source": [
    "from skleran.datasets import fetch_20newgroups\n",
    "newsgroups=fetch_20newsgroups(subset ='all',shuffle=True,remove=('headers','footers','quotes'))\n",
    "print(f\"total no.of documents:{len(newsgroups.data)}\")\n",
    "print(f\"categories:{newsgroups.target_names}\")"
   ]
  }
 ],
 "metadata": {
  "kernelspec": {
   "display_name": "Python 3",
   "language": "python",
   "name": "python3"
  },
  "language_info": {
   "codemirror_mode": {
    "name": "ipython",
    "version": 3
   },
   "file_extension": ".py",
   "mimetype": "text/x-python",
   "name": "python",
   "nbconvert_exporter": "python",
   "pygments_lexer": "ipython3",
   "version": "3.8.10"
  }
 },
 "nbformat": 4,
 "nbformat_minor": 4
}
